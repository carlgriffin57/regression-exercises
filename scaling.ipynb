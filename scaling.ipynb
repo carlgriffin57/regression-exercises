{
 "cells": [
  {
   "cell_type": "code",
   "execution_count": 1,
   "metadata": {},
   "outputs": [],
   "source": [
    "import matplotlib.pyplot as plt\n",
    "import numpy as np\n",
    "from scipy import stats\n",
    "import sklearn.preprocessing\n",
    "from sklearn.model_selection import train_test_split\n",
    "import pandas as pd\n",
    "from wrangle import wrangle_telco\n",
    "from sklearn.preprocessing import MinMaxScaler, RobustScaler, StandardScaler\n",
    "\n",
    "np.random.seed(123)"
   ]
  },
  {
   "cell_type": "code",
   "execution_count": 2,
   "metadata": {},
   "outputs": [],
   "source": [
    "df = wrangle_telco()"
   ]
  },
  {
   "cell_type": "code",
   "execution_count": 3,
   "metadata": {},
   "outputs": [
    {
     "data": {
      "text/html": [
       "<div>\n",
       "<style scoped>\n",
       "    .dataframe tbody tr th:only-of-type {\n",
       "        vertical-align: middle;\n",
       "    }\n",
       "\n",
       "    .dataframe tbody tr th {\n",
       "        vertical-align: top;\n",
       "    }\n",
       "\n",
       "    .dataframe thead th {\n",
       "        text-align: right;\n",
       "    }\n",
       "</style>\n",
       "<table border=\"1\" class=\"dataframe\">\n",
       "  <thead>\n",
       "    <tr style=\"text-align: right;\">\n",
       "      <th></th>\n",
       "      <th>monthly_charges</th>\n",
       "      <th>tenure</th>\n",
       "      <th>total_charges</th>\n",
       "    </tr>\n",
       "    <tr>\n",
       "      <th>customer_id</th>\n",
       "      <th></th>\n",
       "      <th></th>\n",
       "      <th></th>\n",
       "    </tr>\n",
       "  </thead>\n",
       "  <tbody>\n",
       "    <tr>\n",
       "      <th>0013-SMEOE</th>\n",
       "      <td>109.70</td>\n",
       "      <td>71</td>\n",
       "      <td>7904.25</td>\n",
       "    </tr>\n",
       "    <tr>\n",
       "      <th>0014-BMAQU</th>\n",
       "      <td>84.65</td>\n",
       "      <td>63</td>\n",
       "      <td>5377.80</td>\n",
       "    </tr>\n",
       "    <tr>\n",
       "      <th>0016-QLJIS</th>\n",
       "      <td>90.45</td>\n",
       "      <td>65</td>\n",
       "      <td>5957.90</td>\n",
       "    </tr>\n",
       "    <tr>\n",
       "      <th>0017-DINOC</th>\n",
       "      <td>45.20</td>\n",
       "      <td>54</td>\n",
       "      <td>2460.55</td>\n",
       "    </tr>\n",
       "    <tr>\n",
       "      <th>0017-IUDMW</th>\n",
       "      <td>116.80</td>\n",
       "      <td>72</td>\n",
       "      <td>8456.75</td>\n",
       "    </tr>\n",
       "  </tbody>\n",
       "</table>\n",
       "</div>"
      ],
      "text/plain": [
       "             monthly_charges  tenure  total_charges\n",
       "customer_id                                        \n",
       "0013-SMEOE            109.70      71        7904.25\n",
       "0014-BMAQU             84.65      63        5377.80\n",
       "0016-QLJIS             90.45      65        5957.90\n",
       "0017-DINOC             45.20      54        2460.55\n",
       "0017-IUDMW            116.80      72        8456.75"
      ]
     },
     "execution_count": 3,
     "metadata": {},
     "output_type": "execute_result"
    }
   ],
   "source": [
    "df.head()"
   ]
  },
  {
   "cell_type": "code",
   "execution_count": 12,
   "metadata": {},
   "outputs": [],
   "source": [
    "train_validate, x_test = train_test_split(df, test_size=.2, \n",
    "                                        random_state=123)\n",
    "x_train, x_validate = train_test_split(train_validate, test_size=.3, \n",
    "                                   random_state=123)"
   ]
  },
  {
   "cell_type": "code",
   "execution_count": 13,
   "metadata": {},
   "outputs": [
    {
     "data": {
      "text/plain": [
       "((943, 3), (405, 3), (337, 3))"
      ]
     },
     "execution_count": 13,
     "metadata": {},
     "output_type": "execute_result"
    }
   ],
   "source": [
    "x_train.shape, x_validate.shape, x_test.shape"
   ]
  },
  {
   "cell_type": "code",
   "execution_count": 14,
   "metadata": {},
   "outputs": [
    {
     "data": {
      "text/html": [
       "<div>\n",
       "<style scoped>\n",
       "    .dataframe tbody tr th:only-of-type {\n",
       "        vertical-align: middle;\n",
       "    }\n",
       "\n",
       "    .dataframe tbody tr th {\n",
       "        vertical-align: top;\n",
       "    }\n",
       "\n",
       "    .dataframe thead th {\n",
       "        text-align: right;\n",
       "    }\n",
       "</style>\n",
       "<table border=\"1\" class=\"dataframe\">\n",
       "  <thead>\n",
       "    <tr style=\"text-align: right;\">\n",
       "      <th></th>\n",
       "      <th>monthly_charges</th>\n",
       "      <th>tenure</th>\n",
       "      <th>total_charges</th>\n",
       "    </tr>\n",
       "    <tr>\n",
       "      <th>customer_id</th>\n",
       "      <th></th>\n",
       "      <th></th>\n",
       "      <th></th>\n",
       "    </tr>\n",
       "  </thead>\n",
       "  <tbody>\n",
       "    <tr>\n",
       "      <th>2208-NKVVH</th>\n",
       "      <td>24.25</td>\n",
       "      <td>43</td>\n",
       "      <td>1077.95</td>\n",
       "    </tr>\n",
       "    <tr>\n",
       "      <th>6993-YGFJV</th>\n",
       "      <td>112.55</td>\n",
       "      <td>69</td>\n",
       "      <td>7806.50</td>\n",
       "    </tr>\n",
       "    <tr>\n",
       "      <th>6614-FHDBO</th>\n",
       "      <td>109.20</td>\n",
       "      <td>72</td>\n",
       "      <td>7878.30</td>\n",
       "    </tr>\n",
       "    <tr>\n",
       "      <th>3512-IZIKN</th>\n",
       "      <td>65.30</td>\n",
       "      <td>70</td>\n",
       "      <td>4759.75</td>\n",
       "    </tr>\n",
       "    <tr>\n",
       "      <th>8414-OOEEL</th>\n",
       "      <td>79.50</td>\n",
       "      <td>66</td>\n",
       "      <td>5196.10</td>\n",
       "    </tr>\n",
       "    <tr>\n",
       "      <th>...</th>\n",
       "      <td>...</td>\n",
       "      <td>...</td>\n",
       "      <td>...</td>\n",
       "    </tr>\n",
       "    <tr>\n",
       "      <th>9110-HSGTV</th>\n",
       "      <td>82.45</td>\n",
       "      <td>69</td>\n",
       "      <td>5555.30</td>\n",
       "    </tr>\n",
       "    <tr>\n",
       "      <th>2197-OMWGI</th>\n",
       "      <td>53.00</td>\n",
       "      <td>68</td>\n",
       "      <td>3656.25</td>\n",
       "    </tr>\n",
       "    <tr>\n",
       "      <th>5458-CQJTA</th>\n",
       "      <td>74.80</td>\n",
       "      <td>65</td>\n",
       "      <td>4820.15</td>\n",
       "    </tr>\n",
       "    <tr>\n",
       "      <th>6050-FFXES</th>\n",
       "      <td>105.35</td>\n",
       "      <td>69</td>\n",
       "      <td>7240.65</td>\n",
       "    </tr>\n",
       "    <tr>\n",
       "      <th>8221-HVAYI</th>\n",
       "      <td>69.15</td>\n",
       "      <td>35</td>\n",
       "      <td>2490.15</td>\n",
       "    </tr>\n",
       "  </tbody>\n",
       "</table>\n",
       "<p>943 rows × 3 columns</p>\n",
       "</div>"
      ],
      "text/plain": [
       "             monthly_charges  tenure  total_charges\n",
       "customer_id                                        \n",
       "2208-NKVVH             24.25      43        1077.95\n",
       "6993-YGFJV            112.55      69        7806.50\n",
       "6614-FHDBO            109.20      72        7878.30\n",
       "3512-IZIKN             65.30      70        4759.75\n",
       "8414-OOEEL             79.50      66        5196.10\n",
       "...                      ...     ...            ...\n",
       "9110-HSGTV             82.45      69        5555.30\n",
       "2197-OMWGI             53.00      68        3656.25\n",
       "5458-CQJTA             74.80      65        4820.15\n",
       "6050-FFXES            105.35      69        7240.65\n",
       "8221-HVAYI             69.15      35        2490.15\n",
       "\n",
       "[943 rows x 3 columns]"
      ]
     },
     "execution_count": 14,
     "metadata": {},
     "output_type": "execute_result"
    }
   ],
   "source": [
    "x_train"
   ]
  },
  {
   "cell_type": "markdown",
   "metadata": {},
   "source": [
    "1. Apply the scalers we talked about in this lesson to your data and visualize the results for the unscaled and scaled distribution ."
   ]
  },
  {
   "cell_type": "code",
   "execution_count": 15,
   "metadata": {},
   "outputs": [
    {
     "name": "stderr",
     "output_type": "stream",
     "text": [
      "<ipython-input-15-5f4ab2aec28b>:5: SettingWithCopyWarning: \n",
      "A value is trying to be set on a copy of a slice from a DataFrame.\n",
      "Try using .loc[row_indexer,col_indexer] = value instead\n",
      "\n",
      "See the caveats in the documentation: https://pandas.pydata.org/pandas-docs/stable/user_guide/indexing.html#returning-a-view-versus-a-copy\n",
      "  x_train['minmax_monthly_charges'] = scaler.transform(x_train[['monthly_charges']])\n"
     ]
    },
    {
     "data": {
      "text/plain": [
       "Text(0.5, 1.0, 'Scaled')"
      ]
     },
     "execution_count": 15,
     "metadata": {},
     "output_type": "execute_result"
    },
    {
     "data": {
      "image/png": "[encoded data removed]",
      "text/plain": [
       "<Figure size 936x432 with 2 Axes>"
      ]
     },
     "metadata": {
      "needs_background": "light"
     },
     "output_type": "display_data"
    }
   ],
   "source": [
    "scaler = sklearn.preprocessing.MinMaxScaler()\n",
    "# Note that we only call .fit with the training data,\n",
    "# but we use .transform to apply the scaling to all the data splits.\n",
    "scaler.fit(x_train[['monthly_charges']])\n",
    "x_train['minmax_monthly_charges'] = scaler.transform(x_train[['monthly_charges']])\n",
    "\n",
    "x_train_scaled = scaler.transform(x_train[['monthly_charges']])\n",
    "x_validate_scaled = scaler.transform(x_validate)\n",
    "x_test_scaled = scaler.transform(x_test)\n",
    "\n",
    "plt.figure(figsize=(13, 6))\n",
    "plt.subplot(121)\n",
    "plt.hist(x_train[['monthly_charges']], bins=25, ec='black')\n",
    "plt.title('Original')\n",
    "plt.subplot(122)\n",
    "plt.hist(x_train_scaled, bins=25, ec='black')\n",
    "plt.title('Scaled')"
   ]
  },
  {
   "cell_type": "code",
   "execution_count": 16,
   "metadata": {},
   "outputs": [
    {
     "data": {
      "text/html": [
       "<div>\n",
       "<style scoped>\n",
       "    .dataframe tbody tr th:only-of-type {\n",
       "        vertical-align: middle;\n",
       "    }\n",
       "\n",
       "    .dataframe tbody tr th {\n",
       "        vertical-align: top;\n",
       "    }\n",
       "\n",
       "    .dataframe thead th {\n",
       "        text-align: right;\n",
       "    }\n",
       "</style>\n",
       "<table border=\"1\" class=\"dataframe\">\n",
       "  <thead>\n",
       "    <tr style=\"text-align: right;\">\n",
       "      <th></th>\n",
       "      <th>monthly_charges</th>\n",
       "      <th>tenure</th>\n",
       "      <th>total_charges</th>\n",
       "      <th>minmax_monthly_charges</th>\n",
       "    </tr>\n",
       "    <tr>\n",
       "      <th>customer_id</th>\n",
       "      <th></th>\n",
       "      <th></th>\n",
       "      <th></th>\n",
       "      <th></th>\n",
       "    </tr>\n",
       "  </thead>\n",
       "  <tbody>\n",
       "    <tr>\n",
       "      <th>2208-NKVVH</th>\n",
       "      <td>24.25</td>\n",
       "      <td>43</td>\n",
       "      <td>1077.95</td>\n",
       "      <td>0.058296</td>\n",
       "    </tr>\n",
       "    <tr>\n",
       "      <th>6993-YGFJV</th>\n",
       "      <td>112.55</td>\n",
       "      <td>69</td>\n",
       "      <td>7806.50</td>\n",
       "      <td>0.938216</td>\n",
       "    </tr>\n",
       "    <tr>\n",
       "      <th>6614-FHDBO</th>\n",
       "      <td>109.20</td>\n",
       "      <td>72</td>\n",
       "      <td>7878.30</td>\n",
       "      <td>0.904833</td>\n",
       "    </tr>\n",
       "    <tr>\n",
       "      <th>3512-IZIKN</th>\n",
       "      <td>65.30</td>\n",
       "      <td>70</td>\n",
       "      <td>4759.75</td>\n",
       "      <td>0.467364</td>\n",
       "    </tr>\n",
       "    <tr>\n",
       "      <th>8414-OOEEL</th>\n",
       "      <td>79.50</td>\n",
       "      <td>66</td>\n",
       "      <td>5196.10</td>\n",
       "      <td>0.608869</td>\n",
       "    </tr>\n",
       "    <tr>\n",
       "      <th>...</th>\n",
       "      <td>...</td>\n",
       "      <td>...</td>\n",
       "      <td>...</td>\n",
       "      <td>...</td>\n",
       "    </tr>\n",
       "    <tr>\n",
       "      <th>9110-HSGTV</th>\n",
       "      <td>82.45</td>\n",
       "      <td>69</td>\n",
       "      <td>5555.30</td>\n",
       "      <td>0.638266</td>\n",
       "    </tr>\n",
       "    <tr>\n",
       "      <th>2197-OMWGI</th>\n",
       "      <td>53.00</td>\n",
       "      <td>68</td>\n",
       "      <td>3656.25</td>\n",
       "      <td>0.344793</td>\n",
       "    </tr>\n",
       "    <tr>\n",
       "      <th>5458-CQJTA</th>\n",
       "      <td>74.80</td>\n",
       "      <td>65</td>\n",
       "      <td>4820.15</td>\n",
       "      <td>0.562033</td>\n",
       "    </tr>\n",
       "    <tr>\n",
       "      <th>6050-FFXES</th>\n",
       "      <td>105.35</td>\n",
       "      <td>69</td>\n",
       "      <td>7240.65</td>\n",
       "      <td>0.866467</td>\n",
       "    </tr>\n",
       "    <tr>\n",
       "      <th>8221-HVAYI</th>\n",
       "      <td>69.15</td>\n",
       "      <td>35</td>\n",
       "      <td>2490.15</td>\n",
       "      <td>0.505730</td>\n",
       "    </tr>\n",
       "  </tbody>\n",
       "</table>\n",
       "<p>943 rows × 4 columns</p>\n",
       "</div>"
      ],
      "text/plain": [
       "             monthly_charges  tenure  total_charges  minmax_monthly_charges\n",
       "customer_id                                                                \n",
       "2208-NKVVH             24.25      43        1077.95                0.058296\n",
       "6993-YGFJV            112.55      69        7806.50                0.938216\n",
       "6614-FHDBO            109.20      72        7878.30                0.904833\n",
       "3512-IZIKN             65.30      70        4759.75                0.467364\n",
       "8414-OOEEL             79.50      66        5196.10                0.608869\n",
       "...                      ...     ...            ...                     ...\n",
       "9110-HSGTV             82.45      69        5555.30                0.638266\n",
       "2197-OMWGI             53.00      68        3656.25                0.344793\n",
       "5458-CQJTA             74.80      65        4820.15                0.562033\n",
       "6050-FFXES            105.35      69        7240.65                0.866467\n",
       "8221-HVAYI             69.15      35        2490.15                0.505730\n",
       "\n",
       "[943 rows x 4 columns]"
      ]
     },
     "execution_count": 16,
     "metadata": {},
     "output_type": "execute_result"
    }
   ],
   "source": [
    "x_train"
   ]
  },
  {
   "cell_type": "code",
   "execution_count": 20,
   "metadata": {},
   "outputs": [
    {
     "name": "stderr",
     "output_type": "stream",
     "text": [
      "<ipython-input-20-df1e1ba95e5f>:5: SettingWithCopyWarning: \n",
      "A value is trying to be set on a copy of a slice from a DataFrame.\n",
      "Try using .loc[row_indexer,col_indexer] = value instead\n",
      "\n",
      "See the caveats in the documentation: https://pandas.pydata.org/pandas-docs/stable/user_guide/indexing.html#returning-a-view-versus-a-copy\n",
      "  x_train['robust_monthly_charges'] = scaler.transform(x_train[['monthly_charges']])\n"
     ]
    },
    {
     "data": {
      "text/plain": [
       "Text(0.5, 1.0, 'Scaled')"
      ]
     },
     "execution_count": 20,
     "metadata": {},
     "output_type": "execute_result"
    },
    {
     "data": {
      "image/png": "[encoded data removed]",
      "text/plain": [
       "<Figure size 936x432 with 2 Axes>"
      ]
     },
     "metadata": {
      "needs_background": "light"
     },
     "output_type": "display_data"
    }
   ],
   "source": [
    "scaler = sklearn.preprocessing.RobustScaler()\n",
    "# Note that we only call .fit with the training data,\n",
    "# but we use .transform to apply the scaling to all the data splits.\n",
    "scaler.fit(x_train[['monthly_charges']])\n",
    "x_train['robust_monthly_charges'] = scaler.transform(x_train[['monthly_charges']])\n",
    "\n",
    "x_train_scaled = scaler.transform(x_train[['monthly_charges']])\n",
    "x_validate_scaled = scaler.transform(x_validate)\n",
    "x_test_scaled = scaler.transform(x_test)\n",
    "\n",
    "plt.figure(figsize=(13, 6))\n",
    "plt.subplot(121)\n",
    "plt.hist(x_train[['monthly_charges']], bins=25, ec='black')\n",
    "plt.title('Original')\n",
    "plt.subplot(122)\n",
    "plt.hist(x_train_scaled, bins=25, ec='black')\n",
    "plt.title('Scaled')"
   ]
  },
  {
   "cell_type": "code",
   "execution_count": 21,
   "metadata": {},
   "outputs": [
    {
     "data": {
      "text/html": [
       "<div>\n",
       "<style scoped>\n",
       "    .dataframe tbody tr th:only-of-type {\n",
       "        vertical-align: middle;\n",
       "    }\n",
       "\n",
       "    .dataframe tbody tr th {\n",
       "        vertical-align: top;\n",
       "    }\n",
       "\n",
       "    .dataframe thead th {\n",
       "        text-align: right;\n",
       "    }\n",
       "</style>\n",
       "<table border=\"1\" class=\"dataframe\">\n",
       "  <thead>\n",
       "    <tr style=\"text-align: right;\">\n",
       "      <th></th>\n",
       "      <th>monthly_charges</th>\n",
       "      <th>tenure</th>\n",
       "      <th>total_charges</th>\n",
       "      <th>minmax_monthly_charges</th>\n",
       "      <th>robust_monthly_charges</th>\n",
       "    </tr>\n",
       "    <tr>\n",
       "      <th>customer_id</th>\n",
       "      <th></th>\n",
       "      <th></th>\n",
       "      <th></th>\n",
       "      <th></th>\n",
       "      <th></th>\n",
       "    </tr>\n",
       "  </thead>\n",
       "  <tbody>\n",
       "    <tr>\n",
       "      <th>2208-NKVVH</th>\n",
       "      <td>24.25</td>\n",
       "      <td>43</td>\n",
       "      <td>1077.95</td>\n",
       "      <td>-1.057807</td>\n",
       "      <td>-0.597547</td>\n",
       "    </tr>\n",
       "    <tr>\n",
       "      <th>6993-YGFJV</th>\n",
       "      <td>112.55</td>\n",
       "      <td>69</td>\n",
       "      <td>7806.50</td>\n",
       "      <td>1.475576</td>\n",
       "      <td>0.714976</td>\n",
       "    </tr>\n",
       "    <tr>\n",
       "      <th>6614-FHDBO</th>\n",
       "      <td>109.20</td>\n",
       "      <td>72</td>\n",
       "      <td>7878.30</td>\n",
       "      <td>1.379463</td>\n",
       "      <td>0.665180</td>\n",
       "    </tr>\n",
       "    <tr>\n",
       "      <th>3512-IZIKN</th>\n",
       "      <td>65.30</td>\n",
       "      <td>70</td>\n",
       "      <td>4759.75</td>\n",
       "      <td>0.119944</td>\n",
       "      <td>0.012635</td>\n",
       "    </tr>\n",
       "    <tr>\n",
       "      <th>8414-OOEEL</th>\n",
       "      <td>79.50</td>\n",
       "      <td>66</td>\n",
       "      <td>5196.10</td>\n",
       "      <td>0.527351</td>\n",
       "      <td>0.223709</td>\n",
       "    </tr>\n",
       "    <tr>\n",
       "      <th>...</th>\n",
       "      <td>...</td>\n",
       "      <td>...</td>\n",
       "      <td>...</td>\n",
       "      <td>...</td>\n",
       "      <td>...</td>\n",
       "    </tr>\n",
       "    <tr>\n",
       "      <th>9110-HSGTV</th>\n",
       "      <td>82.45</td>\n",
       "      <td>69</td>\n",
       "      <td>5555.30</td>\n",
       "      <td>0.611988</td>\n",
       "      <td>0.267559</td>\n",
       "    </tr>\n",
       "    <tr>\n",
       "      <th>2197-OMWGI</th>\n",
       "      <td>53.00</td>\n",
       "      <td>68</td>\n",
       "      <td>3656.25</td>\n",
       "      <td>-0.232951</td>\n",
       "      <td>-0.170197</td>\n",
       "    </tr>\n",
       "    <tr>\n",
       "      <th>5458-CQJTA</th>\n",
       "      <td>74.80</td>\n",
       "      <td>65</td>\n",
       "      <td>4820.15</td>\n",
       "      <td>0.392505</td>\n",
       "      <td>0.153846</td>\n",
       "    </tr>\n",
       "    <tr>\n",
       "      <th>6050-FFXES</th>\n",
       "      <td>105.35</td>\n",
       "      <td>69</td>\n",
       "      <td>7240.65</td>\n",
       "      <td>1.269004</td>\n",
       "      <td>0.607952</td>\n",
       "    </tr>\n",
       "    <tr>\n",
       "      <th>8221-HVAYI</th>\n",
       "      <td>69.15</td>\n",
       "      <td>35</td>\n",
       "      <td>2490.15</td>\n",
       "      <td>0.230403</td>\n",
       "      <td>0.069863</td>\n",
       "    </tr>\n",
       "  </tbody>\n",
       "</table>\n",
       "<p>943 rows × 5 columns</p>\n",
       "</div>"
      ],
      "text/plain": [
       "             monthly_charges  tenure  total_charges  minmax_monthly_charges  \\\n",
       "customer_id                                                                   \n",
       "2208-NKVVH             24.25      43        1077.95               -1.057807   \n",
       "6993-YGFJV            112.55      69        7806.50                1.475576   \n",
       "6614-FHDBO            109.20      72        7878.30                1.379463   \n",
       "3512-IZIKN             65.30      70        4759.75                0.119944   \n",
       "8414-OOEEL             79.50      66        5196.10                0.527351   \n",
       "...                      ...     ...            ...                     ...   \n",
       "9110-HSGTV             82.45      69        5555.30                0.611988   \n",
       "2197-OMWGI             53.00      68        3656.25               -0.232951   \n",
       "5458-CQJTA             74.80      65        4820.15                0.392505   \n",
       "6050-FFXES            105.35      69        7240.65                1.269004   \n",
       "8221-HVAYI             69.15      35        2490.15                0.230403   \n",
       "\n",
       "             robust_monthly_charges  \n",
       "customer_id                          \n",
       "2208-NKVVH                -0.597547  \n",
       "6993-YGFJV                 0.714976  \n",
       "6614-FHDBO                 0.665180  \n",
       "3512-IZIKN                 0.012635  \n",
       "8414-OOEEL                 0.223709  \n",
       "...                             ...  \n",
       "9110-HSGTV                 0.267559  \n",
       "2197-OMWGI                -0.170197  \n",
       "5458-CQJTA                 0.153846  \n",
       "6050-FFXES                 0.607952  \n",
       "8221-HVAYI                 0.069863  \n",
       "\n",
       "[943 rows x 5 columns]"
      ]
     },
     "execution_count": 21,
     "metadata": {},
     "output_type": "execute_result"
    }
   ],
   "source": [
    "x_train"
   ]
  },
  {
   "cell_type": "code",
   "execution_count": 25,
   "metadata": {},
   "outputs": [
    {
     "name": "stderr",
     "output_type": "stream",
     "text": [
      "<ipython-input-25-71b3dfee5ff7>:5: SettingWithCopyWarning: \n",
      "A value is trying to be set on a copy of a slice from a DataFrame.\n",
      "Try using .loc[row_indexer,col_indexer] = value instead\n",
      "\n",
      "See the caveats in the documentation: https://pandas.pydata.org/pandas-docs/stable/user_guide/indexing.html#returning-a-view-versus-a-copy\n",
      "  x_train['standard_monthly_charges'] = scaler.transform(x_train[['monthly_charges']])\n"
     ]
    },
    {
     "data": {
      "text/plain": [
       "Text(0.5, 1.0, 'Scaled')"
      ]
     },
     "execution_count": 25,
     "metadata": {},
     "output_type": "execute_result"
    },
    {
     "data": {
      "image/png": "[encoded data removed]",
      "text/plain": [
       "<Figure size 936x432 with 2 Axes>"
      ]
     },
     "metadata": {
      "needs_background": "light"
     },
     "output_type": "display_data"
    }
   ],
   "source": [
    "scaler = sklearn.preprocessing.StandardScaler()\n",
    "# Note that we only call .fit with the training data,\n",
    "# but we use .transform to apply the scaling to all the data splits.\n",
    "scaler.fit(x_train[['monthly_charges']])\n",
    "x_train['standard_monthly_charges'] = scaler.transform(x_train[['monthly_charges']])\n",
    "\n",
    "x_train_scaled = scaler.transform(x_train[['monthly_charges']])\n",
    "#x_validate_scaled = scaler.transform(x_validate)\n",
    "#x_test_scaled = scaler.transform(x_test)\n",
    "\n",
    "plt.figure(figsize=(13, 6))\n",
    "plt.subplot(121)\n",
    "plt.hist(x_train[['monthly_charges']], bins=25, ec='black')\n",
    "plt.title('Original')\n",
    "plt.subplot(122)\n",
    "plt.hist(x_train_scaled, bins=25, ec='black')\n",
    "plt.title('Scaled')"
   ]
  },
  {
   "cell_type": "code",
   "execution_count": 26,
   "metadata": {},
   "outputs": [
    {
     "data": {
      "text/html": [
       "<div>\n",
       "<style scoped>\n",
       "    .dataframe tbody tr th:only-of-type {\n",
       "        vertical-align: middle;\n",
       "    }\n",
       "\n",
       "    .dataframe tbody tr th {\n",
       "        vertical-align: top;\n",
       "    }\n",
       "\n",
       "    .dataframe thead th {\n",
       "        text-align: right;\n",
       "    }\n",
       "</style>\n",
       "<table border=\"1\" class=\"dataframe\">\n",
       "  <thead>\n",
       "    <tr style=\"text-align: right;\">\n",
       "      <th></th>\n",
       "      <th>monthly_charges</th>\n",
       "      <th>tenure</th>\n",
       "      <th>total_charges</th>\n",
       "      <th>minmax_monthly_charges</th>\n",
       "      <th>robust_monthly_charges</th>\n",
       "      <th>standard_monthly_charges</th>\n",
       "    </tr>\n",
       "    <tr>\n",
       "      <th>customer_id</th>\n",
       "      <th></th>\n",
       "      <th></th>\n",
       "      <th></th>\n",
       "      <th></th>\n",
       "      <th></th>\n",
       "      <th></th>\n",
       "    </tr>\n",
       "  </thead>\n",
       "  <tbody>\n",
       "    <tr>\n",
       "      <th>2208-NKVVH</th>\n",
       "      <td>24.25</td>\n",
       "      <td>43</td>\n",
       "      <td>1077.95</td>\n",
       "      <td>-1.057807</td>\n",
       "      <td>-0.597547</td>\n",
       "      <td>-1.057807</td>\n",
       "    </tr>\n",
       "    <tr>\n",
       "      <th>6993-YGFJV</th>\n",
       "      <td>112.55</td>\n",
       "      <td>69</td>\n",
       "      <td>7806.50</td>\n",
       "      <td>1.475576</td>\n",
       "      <td>0.714976</td>\n",
       "      <td>1.475576</td>\n",
       "    </tr>\n",
       "    <tr>\n",
       "      <th>6614-FHDBO</th>\n",
       "      <td>109.20</td>\n",
       "      <td>72</td>\n",
       "      <td>7878.30</td>\n",
       "      <td>1.379463</td>\n",
       "      <td>0.665180</td>\n",
       "      <td>1.379463</td>\n",
       "    </tr>\n",
       "    <tr>\n",
       "      <th>3512-IZIKN</th>\n",
       "      <td>65.30</td>\n",
       "      <td>70</td>\n",
       "      <td>4759.75</td>\n",
       "      <td>0.119944</td>\n",
       "      <td>0.012635</td>\n",
       "      <td>0.119944</td>\n",
       "    </tr>\n",
       "    <tr>\n",
       "      <th>8414-OOEEL</th>\n",
       "      <td>79.50</td>\n",
       "      <td>66</td>\n",
       "      <td>5196.10</td>\n",
       "      <td>0.527351</td>\n",
       "      <td>0.223709</td>\n",
       "      <td>0.527351</td>\n",
       "    </tr>\n",
       "    <tr>\n",
       "      <th>...</th>\n",
       "      <td>...</td>\n",
       "      <td>...</td>\n",
       "      <td>...</td>\n",
       "      <td>...</td>\n",
       "      <td>...</td>\n",
       "      <td>...</td>\n",
       "    </tr>\n",
       "    <tr>\n",
       "      <th>9110-HSGTV</th>\n",
       "      <td>82.45</td>\n",
       "      <td>69</td>\n",
       "      <td>5555.30</td>\n",
       "      <td>0.611988</td>\n",
       "      <td>0.267559</td>\n",
       "      <td>0.611988</td>\n",
       "    </tr>\n",
       "    <tr>\n",
       "      <th>2197-OMWGI</th>\n",
       "      <td>53.00</td>\n",
       "      <td>68</td>\n",
       "      <td>3656.25</td>\n",
       "      <td>-0.232951</td>\n",
       "      <td>-0.170197</td>\n",
       "      <td>-0.232951</td>\n",
       "    </tr>\n",
       "    <tr>\n",
       "      <th>5458-CQJTA</th>\n",
       "      <td>74.80</td>\n",
       "      <td>65</td>\n",
       "      <td>4820.15</td>\n",
       "      <td>0.392505</td>\n",
       "      <td>0.153846</td>\n",
       "      <td>0.392505</td>\n",
       "    </tr>\n",
       "    <tr>\n",
       "      <th>6050-FFXES</th>\n",
       "      <td>105.35</td>\n",
       "      <td>69</td>\n",
       "      <td>7240.65</td>\n",
       "      <td>1.269004</td>\n",
       "      <td>0.607952</td>\n",
       "      <td>1.269004</td>\n",
       "    </tr>\n",
       "    <tr>\n",
       "      <th>8221-HVAYI</th>\n",
       "      <td>69.15</td>\n",
       "      <td>35</td>\n",
       "      <td>2490.15</td>\n",
       "      <td>0.230403</td>\n",
       "      <td>0.069863</td>\n",
       "      <td>0.230403</td>\n",
       "    </tr>\n",
       "  </tbody>\n",
       "</table>\n",
       "<p>943 rows × 6 columns</p>\n",
       "</div>"
      ],
      "text/plain": [
       "             monthly_charges  tenure  total_charges  minmax_monthly_charges  \\\n",
       "customer_id                                                                   \n",
       "2208-NKVVH             24.25      43        1077.95               -1.057807   \n",
       "6993-YGFJV            112.55      69        7806.50                1.475576   \n",
       "6614-FHDBO            109.20      72        7878.30                1.379463   \n",
       "3512-IZIKN             65.30      70        4759.75                0.119944   \n",
       "8414-OOEEL             79.50      66        5196.10                0.527351   \n",
       "...                      ...     ...            ...                     ...   \n",
       "9110-HSGTV             82.45      69        5555.30                0.611988   \n",
       "2197-OMWGI             53.00      68        3656.25               -0.232951   \n",
       "5458-CQJTA             74.80      65        4820.15                0.392505   \n",
       "6050-FFXES            105.35      69        7240.65                1.269004   \n",
       "8221-HVAYI             69.15      35        2490.15                0.230403   \n",
       "\n",
       "             robust_monthly_charges  standard_monthly_charges  \n",
       "customer_id                                                    \n",
       "2208-NKVVH                -0.597547                 -1.057807  \n",
       "6993-YGFJV                 0.714976                  1.475576  \n",
       "6614-FHDBO                 0.665180                  1.379463  \n",
       "3512-IZIKN                 0.012635                  0.119944  \n",
       "8414-OOEEL                 0.223709                  0.527351  \n",
       "...                             ...                       ...  \n",
       "9110-HSGTV                 0.267559                  0.611988  \n",
       "2197-OMWGI                -0.170197                 -0.232951  \n",
       "5458-CQJTA                 0.153846                  0.392505  \n",
       "6050-FFXES                 0.607952                  1.269004  \n",
       "8221-HVAYI                 0.069863                  0.230403  \n",
       "\n",
       "[943 rows x 6 columns]"
      ]
     },
     "execution_count": 26,
     "metadata": {},
     "output_type": "execute_result"
    }
   ],
   "source": [
    "x_train"
   ]
  },
  {
   "cell_type": "markdown",
   "metadata": {},
   "source": [
    "2. Apply the .inverse_transform method to your scaled data. Is the resulting dataset the exact same as the original data?"
   ]
  },
  {
   "cell_type": "code",
   "execution_count": 33,
   "metadata": {},
   "outputs": [
    {
     "data": {
      "text/plain": [
       "Text(0.5, 1.0, 'Inverse Scaled')"
      ]
     },
     "execution_count": 33,
     "metadata": {},
     "output_type": "execute_result"
    },
    {
     "data": {
      "image/png": "[encoded data removed]",
      "text/plain": [
       "<Figure size 936x432 with 2 Axes>"
      ]
     },
     "metadata": {
      "needs_background": "light"
     },
     "output_type": "display_data"
    }
   ],
   "source": [
    "scaler = sklearn.preprocessing.StandardScaler()\n",
    "# Note that we only call .fit with the training data,\n",
    "# but we use .transform to apply the scaling to all the data splits.\n",
    "scaler.fit(x_train[['monthly_charges']])\n",
    "\n",
    "x_train_scaled_inverse = scaler.inverse_transform(x_train[['standard_monthly_charges']])\n",
    "#x_validate_scaled = scaler.transform(x_validate)\n",
    "#x_test_scaled = scaler.transform(x_test)\n",
    "\n",
    "plt.figure(figsize=(13, 6))\n",
    "plt.subplot(121)\n",
    "plt.hist(x_train[['monthly_charges']], bins=25, ec='black')\n",
    "plt.title('Original')\n",
    "plt.subplot(122)\n",
    "plt.hist(x_train_scaled_inverse, bins=25, ec='black')\n",
    "plt.title('Inverse Scaled')"
   ]
  },
  {
   "cell_type": "markdown",
   "metadata": {},
   "source": [
    "3. Read the documentation for sklearn's QuantileTransformer. Use normal for the output_distribution and apply this scaler to your data. Visualize the result of your data scaling.\n"
   ]
  },
  {
   "cell_type": "code",
   "execution_count": 44,
   "metadata": {},
   "outputs": [
    {
     "name": "stderr",
     "output_type": "stream",
     "text": [
      "/usr/local/anaconda3/lib/python3.8/site-packages/sklearn/preprocessing/_data.py:2367: UserWarning: n_quantiles (1000) is greater than the total number of samples (943). n_quantiles is set to n_samples.\n",
      "  warnings.warn(\"n_quantiles (%s) is greater than the total number \"\n"
     ]
    }
   ],
   "source": [
    "# 1. Create the object\n",
    "scaler2 = sklearn.preprocessing.QuantileTransformer(output_distribution = 'normal')\n",
    "\n",
    "# 2. Fit to the train data\n",
    "scaler2.fit(x_train[['monthly_charges']])\n",
    "\n",
    "# 3. Use the object\n",
    "x_train2 = scaler2.transform(x_train[['monthly_charges']])\n",
    "x_test2 = scaler2.transform(x_test[['monthly_charges']])\n",
    "x_validate2 = scaler2.transform(x_validate[['monthly_charges']])\n",
    "\n",
    "scaled = pd.DataFrame(x_train2)\n",
    "scaled.columns = ['monthly_charges']"
   ]
  },
  {
   "cell_type": "code",
   "execution_count": 45,
   "metadata": {},
   "outputs": [
    {
     "data": {
      "text/plain": [
       "Text(0.5, 1.0, 'Quantile Scaled Monthly Charges')"
      ]
     },
     "execution_count": 45,
     "metadata": {},
     "output_type": "execute_result"
    },
    {
     "data": {
      "image/png": "[encoded data removed]",
      "text/plain": [
       "<Figure size 432x288 with 2 Axes>"
      ]
     },
     "metadata": {
      "needs_background": "light"
     },
     "output_type": "display_data"
    }
   ],
   "source": [
    "plt.subplot(121)\n",
    "plt.hist(x_train.monthly_charges)\n",
    "plt.title('Original Monthly Charges')\n",
    "\n",
    "plt.subplot(122)\n",
    "plt.hist(scaled.monthly_charges)\n",
    "plt.title('Quantile Scaled Monthly Charges')\n"
   ]
  },
  {
   "cell_type": "markdown",
   "metadata": {},
   "source": [
    "4. Use the QuantileTransformer, but omit the output_distribution argument. Visualize your results. What do you notice?\n",
    "\n",
    "The scaled data is not a normal distribution."
   ]
  },
  {
   "cell_type": "code",
   "execution_count": 47,
   "metadata": {},
   "outputs": [
    {
     "name": "stderr",
     "output_type": "stream",
     "text": [
      "/usr/local/anaconda3/lib/python3.8/site-packages/sklearn/preprocessing/_data.py:2367: UserWarning: n_quantiles (1000) is greater than the total number of samples (943). n_quantiles is set to n_samples.\n",
      "  warnings.warn(\"n_quantiles (%s) is greater than the total number \"\n"
     ]
    }
   ],
   "source": [
    "# 1. Create the object\n",
    "scaler3 = sklearn.preprocessing.QuantileTransformer()\n",
    "\n",
    "# 2. Fit to the train data\n",
    "scaler3.fit(x_train[['monthly_charges']])\n",
    "\n",
    "# 3. Use the object\n",
    "x_train3 = scaler3.transform(x_train[['monthly_charges']])\n",
    "x_test3 = scaler3.transform(x_test[['monthly_charges']])\n",
    "x_validate3 = scaler3.transform(x_validate[['monthly_charges']])\n",
    "\n",
    "scaled = pd.DataFrame(x_train3)\n",
    "scaled.columns = ['monthly_charges']\n"
   ]
  },
  {
   "cell_type": "code",
   "execution_count": 48,
   "metadata": {},
   "outputs": [
    {
     "data": {
      "text/plain": [
       "Text(0.5, 1.0, 'Quantile Scaled Monthly Charges')"
      ]
     },
     "execution_count": 48,
     "metadata": {},
     "output_type": "execute_result"
    },
    {
     "data": {
      "image/png": "[encoded data removed]",
      "text/plain": [
       "<Figure size 432x288 with 2 Axes>"
      ]
     },
     "metadata": {
      "needs_background": "light"
     },
     "output_type": "display_data"
    }
   ],
   "source": [
    "plt.subplot(121)\n",
    "plt.hist(x_train.monthly_charges)\n",
    "plt.title('Original Monthly Charges')\n",
    "\n",
    "plt.subplot(122)\n",
    "plt.hist(scaled.monthly_charges)\n",
    "plt.title('Quantile Scaled Monthly Charges')"
   ]
  },
  {
   "cell_type": "markdown",
   "metadata": {},
   "source": [
    "5. Based on the work you've done, choose a scaling method for your dataset. Write a function within your prepare.py that accepts as input the train, validate, and test data splits, and returns the scaled versions of each. Be sure to only learn the parameters for scaling from your training data!\n"
   ]
  },
  {
   "cell_type": "code",
   "execution_count": null,
   "metadata": {},
   "outputs": [],
   "source": []
  }
 ],
 "metadata": {
  "kernelspec": {
   "display_name": "Python 3",
   "language": "python",
   "name": "python3"
  },
  "language_info": {
   "codemirror_mode": {
    "name": "ipython",
    "version": 3
   },
   "file_extension": ".py",
   "mimetype": "text/x-python",
   "name": "python",
   "nbconvert_exporter": "python",
   "pygments_lexer": "ipython3",
   "version": "3.8.5"
  }
 },
 "nbformat": 4,
 "nbformat_minor": 4
}
